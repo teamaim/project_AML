{
 "cells": [
  {
   "cell_type": "code",
   "execution_count": 1,
   "id": "f895cb58",
   "metadata": {},
   "outputs": [],
   "source": [
    "import cv2\n",
    "import numpy as np\n",
    "import tensorflow as tf\n",
    "from tensorflow import keras\n",
    "import tkinter as tk\n",
    "from tkinter import filedialog, ttk\n",
    "from PIL import Image, ImageTk"
   ]
  },
  {
   "cell_type": "code",
   "execution_count": 2,
   "id": "1451e131",
   "metadata": {},
   "outputs": [],
   "source": [
    "model = keras.models.load_model(\"cats_vs_dogs_model.keras\")"
   ]
  },
  {
   "cell_type": "code",
   "execution_count": null,
   "id": "d73de2bb",
   "metadata": {},
   "outputs": [
    {
     "name": "stdout",
     "output_type": "stream",
     "text": [
      "\u001b[1m1/1\u001b[0m \u001b[32m━━━━━━━━━━━━━━━━━━━━\u001b[0m\u001b[37m\u001b[0m \u001b[1m0s\u001b[0m 133ms/step\n",
      "\u001b[1m1/1\u001b[0m \u001b[32m━━━━━━━━━━━━━━━━━━━━\u001b[0m\u001b[37m\u001b[0m \u001b[1m0s\u001b[0m 15ms/step\n"
     ]
    }
   ],
   "source": [
    "# Function to preprocess the image\n",
    "def preprocess_image(image_path, img_size):\n",
    "    img_array = cv2.imread(image_path)  # Read the image without specifying grayscale\n",
    "    if img_array is None:\n",
    "        print(f\"Error: Unable to read the image at {image_path}\")\n",
    "        return None\n",
    "    new_array = cv2.resize(img_array, (img_size, img_size))  # Resize the image\n",
    "    if new_array is None:\n",
    "        print(f\"Error: Unable to resize the image at {image_path}\")\n",
    "        return None\n",
    "    # Convert the image array to RGB format\n",
    "    rgb_image = cv2.cvtColor(new_array, cv2.COLOR_BGR2RGB)\n",
    "    # Convert the RGB image to a PIL Image\n",
    "    pil_image = Image.fromarray(rgb_image)\n",
    "    # Convert the PIL Image to a Tkinter PhotoImage\n",
    "    tk_image = ImageTk.PhotoImage(pil_image)\n",
    "    # Update the image label with the new image\n",
    "    image_label.config(image=tk_image)\n",
    "    image_label.image = tk_image  # Keep a reference to avoid garbage collection\n",
    "    return new_array.reshape(-1, img_size, img_size, 3) / 255.0  # Reshape and normalize for RGB images\n",
    "\n",
    "# Function to handle button click event\n",
    "def predict_image():\n",
    "    # Open file dialog to select image\n",
    "    image_path = filedialog.askopenfilename()\n",
    "    \n",
    "    # Preprocess the image and display it\n",
    "    new_image = preprocess_image(image_path, IMG_SIZE)\n",
    "    \n",
    "    if new_image is not None:\n",
    "        # Make predictions\n",
    "        predictions = model.predict(new_image)\n",
    "\n",
    "        # Get the prediction probabilities for cat and dog\n",
    "        cat_prob = predictions[0][1]\n",
    "        dog_prob = predictions[0][0]\n",
    "\n",
    "        # Check if the prediction probability for cat is higher than dog, or vice versa\n",
    "        if cat_prob > dog_prob:\n",
    "            prediction_label.config(text=f\"it is an image of Cat with accuracy: {cat_prob*100:.2f}%\")\n",
    "        elif dog_prob > cat_prob:\n",
    "            prediction_label.config(text=f\"it is an image of Dog with accuracy: {dog_prob*100:.2f}%\")\n",
    "        else:\n",
    "            prediction_label.config(text=\"Uncertain Prediction\")\n",
    "\n",
    "# Create the main window\n",
    "root = tk.Tk()\n",
    "root.title(\"Image Prediction\")\n",
    "root.geometry(\"400x300\")  # Set window size\n",
    "\n",
    "# Create a frame for the main content\n",
    "main_frame = ttk.Frame(root, padding=20)\n",
    "main_frame.pack(fill=tk.BOTH, expand=True)\n",
    "\n",
    "# Add a label for the image\n",
    "image_label = ttk.Label(main_frame)\n",
    "image_label.pack(pady=10)\n",
    "\n",
    "# Add a button to select image\n",
    "select_button = ttk.Button(main_frame, text=\"Select Image\", command=predict_image)\n",
    "select_button.pack(pady=10)\n",
    "\n",
    "# Add a label to display predictions\n",
    "prediction_label = ttk.Label(main_frame, text=\"\")\n",
    "prediction_label.pack(pady=10)\n",
    "\n",
    "# Set image size\n",
    "IMG_SIZE = 128\n",
    "\n",
    "# Run the GUI\n",
    "root.mainloop()\n"
   ]
  },
  {
   "cell_type": "code",
   "execution_count": null,
   "id": "8a719bd5",
   "metadata": {},
   "outputs": [],
   "source": []
  }
 ],
 "metadata": {
  "kernelspec": {
   "display_name": "Python 3 (ipykernel)",
   "language": "python",
   "name": "python3"
  },
  "language_info": {
   "codemirror_mode": {
    "name": "ipython",
    "version": 3
   },
   "file_extension": ".py",
   "mimetype": "text/x-python",
   "name": "python",
   "nbconvert_exporter": "python",
   "pygments_lexer": "ipython3",
   "version": "3.11.5"
  }
 },
 "nbformat": 4,
 "nbformat_minor": 5
}
